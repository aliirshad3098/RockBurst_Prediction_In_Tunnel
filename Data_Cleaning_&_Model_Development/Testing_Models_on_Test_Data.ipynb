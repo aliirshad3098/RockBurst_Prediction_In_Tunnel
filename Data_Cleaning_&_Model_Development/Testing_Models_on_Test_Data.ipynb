{
 "cells": [
  {
   "cell_type": "code",
   "execution_count": 531,
   "metadata": {},
   "outputs": [],
   "source": [
    "import pandas as pd\n",
    "import numpy as np\n",
    "import matplotlib.pyplot as plt\n",
    "import joblib\n",
    "import seaborn as sns\n",
    "from sklearn.preprocessing import StandardScaler\n",
    "from sklearn.metrics import accuracy_score,confusion_matrix,classification_report"
   ]
  },
  {
   "cell_type": "code",
   "execution_count": 532,
   "metadata": {},
   "outputs": [],
   "source": [
    "test_df=pd.read_csv(\"Data/Preprocessed/Rockburst_test_data.csv\")"
   ]
  },
  {
   "cell_type": "code",
   "execution_count": 533,
   "metadata": {},
   "outputs": [
    {
     "name": "stdout",
     "output_type": "stream",
     "text": [
      "<class 'pandas.core.frame.DataFrame'>\n",
      "RangeIndex: 19 entries, 0 to 18\n",
      "Data columns (total 9 columns):\n",
      " #   Column                       Non-Null Count  Dtype  \n",
      "---  ------                       --------------  -----  \n",
      " 0   Energy_Unit_log              19 non-null     float64\n",
      " 1   Event_freq_unit_per_day_log  19 non-null     float64\n",
      " 2   Duration_days_log            19 non-null     float64\n",
      " 3   Energy_per_Volume_log        19 non-null     float64\n",
      " 4   Energy_density_Joule         19 non-null     float64\n",
      " 5   Volume_m3                    19 non-null     float64\n",
      " 6   Energy_Joule_per_day         19 non-null     float64\n",
      " 7   Volume_m3_per_day            19 non-null     float64\n",
      " 8   Intensity_Level_encoded      19 non-null     int64  \n",
      "dtypes: float64(8), int64(1)\n",
      "memory usage: 1.5 KB\n"
     ]
    }
   ],
   "source": [
    "test_df.info()"
   ]
  },
  {
   "cell_type": "code",
   "execution_count": 534,
   "metadata": {},
   "outputs": [
    {
     "data": {
      "text/html": [
       "<div>\n",
       "<style scoped>\n",
       "    .dataframe tbody tr th:only-of-type {\n",
       "        vertical-align: middle;\n",
       "    }\n",
       "\n",
       "    .dataframe tbody tr th {\n",
       "        vertical-align: top;\n",
       "    }\n",
       "\n",
       "    .dataframe thead th {\n",
       "        text-align: right;\n",
       "    }\n",
       "</style>\n",
       "<table border=\"1\" class=\"dataframe\">\n",
       "  <thead>\n",
       "    <tr style=\"text-align: right;\">\n",
       "      <th></th>\n",
       "      <th>Energy_Unit_log</th>\n",
       "      <th>Event_freq_unit_per_day_log</th>\n",
       "      <th>Duration_days_log</th>\n",
       "      <th>Energy_per_Volume_log</th>\n",
       "      <th>Energy_density_Joule</th>\n",
       "      <th>Volume_m3</th>\n",
       "      <th>Energy_Joule_per_day</th>\n",
       "      <th>Volume_m3_per_day</th>\n",
       "      <th>Intensity_Level_encoded</th>\n",
       "    </tr>\n",
       "  </thead>\n",
       "  <tbody>\n",
       "    <tr>\n",
       "      <th>0</th>\n",
       "      <td>2.397895</td>\n",
       "      <td>0.980954</td>\n",
       "      <td>1.945910</td>\n",
       "      <td>1.190380</td>\n",
       "      <td>4.446</td>\n",
       "      <td>4.370</td>\n",
       "      <td>3.668</td>\n",
       "      <td>3.592</td>\n",
       "      <td>1</td>\n",
       "    </tr>\n",
       "    <tr>\n",
       "      <th>1</th>\n",
       "      <td>1.386294</td>\n",
       "      <td>0.693147</td>\n",
       "      <td>1.386294</td>\n",
       "      <td>0.589928</td>\n",
       "      <td>4.610</td>\n",
       "      <td>3.732</td>\n",
       "      <td>4.133</td>\n",
       "      <td>3.255</td>\n",
       "      <td>1</td>\n",
       "    </tr>\n",
       "    <tr>\n",
       "      <th>2</th>\n",
       "      <td>2.833213</td>\n",
       "      <td>1.299374</td>\n",
       "      <td>1.945910</td>\n",
       "      <td>1.485704</td>\n",
       "      <td>3.621</td>\n",
       "      <td>4.681</td>\n",
       "      <td>2.843</td>\n",
       "      <td>3.903</td>\n",
       "      <td>1</td>\n",
       "    </tr>\n",
       "    <tr>\n",
       "      <th>3</th>\n",
       "      <td>2.484907</td>\n",
       "      <td>1.163151</td>\n",
       "      <td>1.791759</td>\n",
       "      <td>1.395086</td>\n",
       "      <td>4.110</td>\n",
       "      <td>3.624</td>\n",
       "      <td>3.411</td>\n",
       "      <td>2.925</td>\n",
       "      <td>3</td>\n",
       "    </tr>\n",
       "    <tr>\n",
       "      <th>4</th>\n",
       "      <td>2.944439</td>\n",
       "      <td>1.029619</td>\n",
       "      <td>2.397895</td>\n",
       "      <td>1.561608</td>\n",
       "      <td>5.602</td>\n",
       "      <td>4.779</td>\n",
       "      <td>4.602</td>\n",
       "      <td>3.779</td>\n",
       "      <td>2</td>\n",
       "    </tr>\n",
       "  </tbody>\n",
       "</table>\n",
       "</div>"
      ],
      "text/plain": [
       "   Energy_Unit_log  Event_freq_unit_per_day_log  Duration_days_log  \\\n",
       "0         2.397895                     0.980954           1.945910   \n",
       "1         1.386294                     0.693147           1.386294   \n",
       "2         2.833213                     1.299374           1.945910   \n",
       "3         2.484907                     1.163151           1.791759   \n",
       "4         2.944439                     1.029619           2.397895   \n",
       "\n",
       "   Energy_per_Volume_log  Energy_density_Joule  Volume_m3  \\\n",
       "0               1.190380                 4.446      4.370   \n",
       "1               0.589928                 4.610      3.732   \n",
       "2               1.485704                 3.621      4.681   \n",
       "3               1.395086                 4.110      3.624   \n",
       "4               1.561608                 5.602      4.779   \n",
       "\n",
       "   Energy_Joule_per_day  Volume_m3_per_day  Intensity_Level_encoded  \n",
       "0                 3.668              3.592                        1  \n",
       "1                 4.133              3.255                        1  \n",
       "2                 2.843              3.903                        1  \n",
       "3                 3.411              2.925                        3  \n",
       "4                 4.602              3.779                        2  "
      ]
     },
     "execution_count": 534,
     "metadata": {},
     "output_type": "execute_result"
    }
   ],
   "source": [
    "test_df.head()"
   ]
  },
  {
   "cell_type": "code",
   "execution_count": 535,
   "metadata": {},
   "outputs": [],
   "source": [
    "train_df=pd.read_csv(\"Data/Preprocessed/Rockburst_in_Tunnel_V3.csv\")"
   ]
  },
  {
   "cell_type": "code",
   "execution_count": 536,
   "metadata": {},
   "outputs": [
    {
     "data": {
      "image/png": "[encoded data removed]",
      "text/plain": [
       "<Figure size 800x400 with 1 Axes>"
      ]
     },
     "metadata": {},
     "output_type": "display_data"
    }
   ],
   "source": [
    "import matplotlib.pyplot as plt\n",
    "import seaborn as sns\n",
    "\n",
    "feature = \"Energy_Unit_log\"  # Example feature\n",
    "plt.figure(figsize=(8,4))\n",
    "sns.kdeplot(train_df[train_df[\"Intensity_Level_encoded\"]==1][feature], label=\"Train Class 1\", fill=True)\n",
    "sns.kdeplot(test_df[test_df[\"Intensity_Level_encoded\"]==1][feature], label=\"Test Class 1\", fill=True)\n",
    "plt.legend()\n",
    "plt.title(f\"Distribution for {feature} (Class 1)\")\n",
    "plt.show()\n"
   ]
  },
  {
   "cell_type": "code",
   "execution_count": null,
   "metadata": {},
   "outputs": [],
   "source": []
  },
  {
   "cell_type": "code",
   "execution_count": 537,
   "metadata": {},
   "outputs": [],
   "source": [
    "model, train_features = joblib.load(\"trained_models/Log_Regression_model_V3.pkl\")\n",
    "scaler=joblib.load(\"trained_models/scaler_V3.pkl\")\n",
    "# Ensure test features in same order\n",
    "X_test = test_df[train_features]  \n",
    "y_test=test_df[\"Intensity_Level_encoded\"]\n",
    "\n",
    "X_test_scaled = scaler.transform(X_test)  "
   ]
  },
  {
   "cell_type": "code",
   "execution_count": 538,
   "metadata": {},
   "outputs": [],
   "source": [
    "y_pred=model.predict(X_test_scaled)\n"
   ]
  },
  {
   "cell_type": "code",
   "execution_count": 539,
   "metadata": {},
   "outputs": [
    {
     "name": "stdout",
     "output_type": "stream",
     "text": [
      "Accuracy: 0.8421\n",
      "Classification Report:\n",
      "               precision    recall  f1-score   support\n",
      "\n",
      "           0       1.00      0.86      0.92         7\n",
      "           1       0.62      1.00      0.77         5\n",
      "           2       1.00      0.80      0.89         5\n",
      "           3       1.00      0.50      0.67         2\n",
      "\n",
      "    accuracy                           0.84        19\n",
      "   macro avg       0.91      0.79      0.81        19\n",
      "weighted avg       0.90      0.84      0.85        19\n",
      "\n"
     ]
    },
    {
     "data": {
      "image/png": "[encoded data removed]",
      "text/plain": [
       "<Figure size 500x400 with 2 Axes>"
      ]
     },
     "metadata": {},
     "output_type": "display_data"
    }
   ],
   "source": [
    "acc = accuracy_score(y_test, y_pred)\n",
    "print(\"Accuracy:\", round(acc, 4))\n",
    "print(\"Classification Report:\\n\", classification_report(y_test, y_pred))\n",
    "\n",
    "# Confusion Matrix\n",
    "cm = confusion_matrix(y_test, y_pred)\n",
    "plt.figure(figsize=(5,4))\n",
    "sns.heatmap(cm, annot=True, fmt='d', cmap='Blues',\n",
    "            xticklabels=np.unique(y_test),\n",
    "            yticklabels=np.unique(y_test))\n",
    "plt.xlabel(\"Predicted\")\n",
    "plt.ylabel(\"Actual\")\n",
    "plt.show()"
   ]
  },
  {
   "cell_type": "code",
   "execution_count": 543,
   "metadata": {},
   "outputs": [
    {
     "data": {
      "text/plain": [
       "['trained_models/Best_model/Log_Reg_model.pkl']"
      ]
     },
     "execution_count": 543,
     "metadata": {},
     "output_type": "execute_result"
    }
   ],
   "source": [
    "joblib.dump([model,train_features],\"trained_models/Best_model/Log_Reg_model.pkl\")"
   ]
  },
  {
   "cell_type": "code",
   "execution_count": 544,
   "metadata": {},
   "outputs": [
    {
     "data": {
      "text/plain": [
       "['Energy_Unit_log',\n",
       " 'Event_freq_unit_per_day_log',\n",
       " 'Duration_days_log',\n",
       " 'Energy_per_Volume_log',\n",
       " 'Energy_density_Joule',\n",
       " 'Volume_m3',\n",
       " 'Energy_Joule_per_day',\n",
       " 'Volume_m3_per_day']"
      ]
     },
     "execution_count": 544,
     "metadata": {},
     "output_type": "execute_result"
    }
   ],
   "source": [
    "train_features"
   ]
  },
  {
   "cell_type": "code",
   "execution_count": null,
   "metadata": {},
   "outputs": [],
   "source": []
  }
 ],
 "metadata": {
  "kernelspec": {
   "display_name": "Python 3",
   "language": "python",
   "name": "python3"
  },
  "language_info": {
   "codemirror_mode": {
    "name": "ipython",
    "version": 3
   },
   "file_extension": ".py",
   "mimetype": "text/x-python",
   "name": "python",
   "nbconvert_exporter": "python",
   "pygments_lexer": "ipython3",
   "version": "3.13.3"
  }
 },
 "nbformat": 4,
 "nbformat_minor": 2
}
