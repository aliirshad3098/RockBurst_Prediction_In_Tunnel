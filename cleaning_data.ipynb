{
 "cells": [
  {
   "cell_type": "code",
   "execution_count": 1,
   "metadata": {},
   "outputs": [],
   "source": [
    "import pandas as pd"
   ]
  },
  {
   "cell_type": "code",
   "execution_count": 2,
   "metadata": {},
   "outputs": [],
   "source": [
    "df = pd.read_excel(\"Data/Raw/Rockburst_in_tunnel.xlsx\",header=None)"
   ]
  },
  {
   "cell_type": "code",
   "execution_count": 3,
   "metadata": {},
   "outputs": [
    {
     "data": {
      "text/html": [
       "<div>\n",
       "<style scoped>\n",
       "    .dataframe tbody tr th:only-of-type {\n",
       "        vertical-align: middle;\n",
       "    }\n",
       "\n",
       "    .dataframe tbody tr th {\n",
       "        vertical-align: top;\n",
       "    }\n",
       "\n",
       "    .dataframe thead th {\n",
       "        text-align: right;\n",
       "    }\n",
       "</style>\n",
       "<table border=\"1\" class=\"dataframe\">\n",
       "  <thead>\n",
       "    <tr style=\"text-align: right;\">\n",
       "      <th></th>\n",
       "      <th>0</th>\n",
       "    </tr>\n",
       "  </thead>\n",
       "  <tbody>\n",
       "    <tr>\n",
       "      <th>0</th>\n",
       "      <td>1 41 5.968 4.694 3.727 4.926 3.653 11 Intense</td>\n",
       "    </tr>\n",
       "    <tr>\n",
       "      <th>1</th>\n",
       "      <td>2 14 5.841 4.622 1.556 4.887 3.668 9 Moderate</td>\n",
       "    </tr>\n",
       "    <tr>\n",
       "      <th>2</th>\n",
       "      <td>3 17 4.754 4.397 1.889 3.8 3.443 9 Moderate</td>\n",
       "    </tr>\n",
       "    <tr>\n",
       "      <th>3</th>\n",
       "      <td>4 18 5.295 4.703 1.8 4.295 3.703 10 Moderate</td>\n",
       "    </tr>\n",
       "    <tr>\n",
       "      <th>4</th>\n",
       "      <td>5 10 5.322 4.238 1.429 4.477 3.393 7 Moderate</td>\n",
       "    </tr>\n",
       "  </tbody>\n",
       "</table>\n",
       "</div>"
      ],
      "text/plain": [
       "                                               0\n",
       "0  1 41 5.968 4.694 3.727 4.926 3.653 11 Intense\n",
       "1  2 14 5.841 4.622 1.556 4.887 3.668 9 Moderate\n",
       "2    3 17 4.754 4.397 1.889 3.8 3.443 9 Moderate\n",
       "3   4 18 5.295 4.703 1.8 4.295 3.703 10 Moderate\n",
       "4  5 10 5.322 4.238 1.429 4.477 3.393 7 Moderate"
      ]
     },
     "execution_count": 3,
     "metadata": {},
     "output_type": "execute_result"
    }
   ],
   "source": [
    "df.head()"
   ]
  },
  {
   "cell_type": "code",
   "execution_count": 4,
   "metadata": {},
   "outputs": [],
   "source": [
    "# spliting into columns\n",
    "df=df[0].str.split(expand=True)"
   ]
  },
  {
   "cell_type": "code",
   "execution_count": 5,
   "metadata": {},
   "outputs": [
    {
     "data": {
      "text/html": [
       "<div>\n",
       "<style scoped>\n",
       "    .dataframe tbody tr th:only-of-type {\n",
       "        vertical-align: middle;\n",
       "    }\n",
       "\n",
       "    .dataframe tbody tr th {\n",
       "        vertical-align: top;\n",
       "    }\n",
       "\n",
       "    .dataframe thead th {\n",
       "        text-align: right;\n",
       "    }\n",
       "</style>\n",
       "<table border=\"1\" class=\"dataframe\">\n",
       "  <thead>\n",
       "    <tr style=\"text-align: right;\">\n",
       "      <th></th>\n",
       "      <th>0</th>\n",
       "      <th>1</th>\n",
       "      <th>2</th>\n",
       "      <th>3</th>\n",
       "      <th>4</th>\n",
       "      <th>5</th>\n",
       "      <th>6</th>\n",
       "      <th>7</th>\n",
       "      <th>8</th>\n",
       "    </tr>\n",
       "  </thead>\n",
       "  <tbody>\n",
       "    <tr>\n",
       "      <th>0</th>\n",
       "      <td>1</td>\n",
       "      <td>41</td>\n",
       "      <td>5.968</td>\n",
       "      <td>4.694</td>\n",
       "      <td>3.727</td>\n",
       "      <td>4.926</td>\n",
       "      <td>3.653</td>\n",
       "      <td>11</td>\n",
       "      <td>Intense</td>\n",
       "    </tr>\n",
       "    <tr>\n",
       "      <th>1</th>\n",
       "      <td>2</td>\n",
       "      <td>14</td>\n",
       "      <td>5.841</td>\n",
       "      <td>4.622</td>\n",
       "      <td>1.556</td>\n",
       "      <td>4.887</td>\n",
       "      <td>3.668</td>\n",
       "      <td>9</td>\n",
       "      <td>Moderate</td>\n",
       "    </tr>\n",
       "    <tr>\n",
       "      <th>2</th>\n",
       "      <td>3</td>\n",
       "      <td>17</td>\n",
       "      <td>4.754</td>\n",
       "      <td>4.397</td>\n",
       "      <td>1.889</td>\n",
       "      <td>3.8</td>\n",
       "      <td>3.443</td>\n",
       "      <td>9</td>\n",
       "      <td>Moderate</td>\n",
       "    </tr>\n",
       "    <tr>\n",
       "      <th>3</th>\n",
       "      <td>4</td>\n",
       "      <td>18</td>\n",
       "      <td>5.295</td>\n",
       "      <td>4.703</td>\n",
       "      <td>1.8</td>\n",
       "      <td>4.295</td>\n",
       "      <td>3.703</td>\n",
       "      <td>10</td>\n",
       "      <td>Moderate</td>\n",
       "    </tr>\n",
       "    <tr>\n",
       "      <th>4</th>\n",
       "      <td>5</td>\n",
       "      <td>10</td>\n",
       "      <td>5.322</td>\n",
       "      <td>4.238</td>\n",
       "      <td>1.429</td>\n",
       "      <td>4.477</td>\n",
       "      <td>3.393</td>\n",
       "      <td>7</td>\n",
       "      <td>Moderate</td>\n",
       "    </tr>\n",
       "  </tbody>\n",
       "</table>\n",
       "</div>"
      ],
      "text/plain": [
       "   0   1      2      3      4      5      6   7         8\n",
       "0  1  41  5.968  4.694  3.727  4.926  3.653  11   Intense\n",
       "1  2  14  5.841  4.622  1.556  4.887  3.668   9  Moderate\n",
       "2  3  17  4.754  4.397  1.889    3.8  3.443   9  Moderate\n",
       "3  4  18  5.295  4.703    1.8  4.295  3.703  10  Moderate\n",
       "4  5  10  5.322  4.238  1.429  4.477  3.393   7  Moderate"
      ]
     },
     "execution_count": 5,
     "metadata": {},
     "output_type": "execute_result"
    }
   ],
   "source": [
    "df.head()"
   ]
  },
  {
   "cell_type": "code",
   "execution_count": 6,
   "metadata": {},
   "outputs": [],
   "source": [
    "df.drop(0,axis=1,inplace=True)"
   ]
  },
  {
   "cell_type": "code",
   "execution_count": 7,
   "metadata": {},
   "outputs": [],
   "source": [
    "# Giving columns an appropriate names\n",
    "df.columns = [\n",
    "    \"Energy_Unit\",\n",
    "    \"Energy_density_Joule\",\n",
    "    \"Volume_m3\",\n",
    "    \"Event_freq_unit_per_day\",\n",
    "    \"Energy_Joule_per_day\",\n",
    "    \"Volume_m3_per_day\",\n",
    "    \"Duration_days\",\n",
    "    \"Intensity_Level\"\n",
    "]\n"
   ]
  },
  {
   "cell_type": "code",
   "execution_count": 8,
   "metadata": {},
   "outputs": [
    {
     "data": {
      "text/html": [
       "<div>\n",
       "<style scoped>\n",
       "    .dataframe tbody tr th:only-of-type {\n",
       "        vertical-align: middle;\n",
       "    }\n",
       "\n",
       "    .dataframe tbody tr th {\n",
       "        vertical-align: top;\n",
       "    }\n",
       "\n",
       "    .dataframe thead th {\n",
       "        text-align: right;\n",
       "    }\n",
       "</style>\n",
       "<table border=\"1\" class=\"dataframe\">\n",
       "  <thead>\n",
       "    <tr style=\"text-align: right;\">\n",
       "      <th></th>\n",
       "      <th>Energy_Unit</th>\n",
       "      <th>Energy_density_Joule</th>\n",
       "      <th>Volume_m3</th>\n",
       "      <th>Event_freq_unit_per_day</th>\n",
       "      <th>Energy_Joule_per_day</th>\n",
       "      <th>Volume_m3_per_day</th>\n",
       "      <th>Duration_days</th>\n",
       "      <th>Intensity_Level</th>\n",
       "    </tr>\n",
       "  </thead>\n",
       "  <tbody>\n",
       "    <tr>\n",
       "      <th>0</th>\n",
       "      <td>41</td>\n",
       "      <td>5.968</td>\n",
       "      <td>4.694</td>\n",
       "      <td>3.727</td>\n",
       "      <td>4.926</td>\n",
       "      <td>3.653</td>\n",
       "      <td>11</td>\n",
       "      <td>Intense</td>\n",
       "    </tr>\n",
       "    <tr>\n",
       "      <th>1</th>\n",
       "      <td>14</td>\n",
       "      <td>5.841</td>\n",
       "      <td>4.622</td>\n",
       "      <td>1.556</td>\n",
       "      <td>4.887</td>\n",
       "      <td>3.668</td>\n",
       "      <td>9</td>\n",
       "      <td>Moderate</td>\n",
       "    </tr>\n",
       "    <tr>\n",
       "      <th>2</th>\n",
       "      <td>17</td>\n",
       "      <td>4.754</td>\n",
       "      <td>4.397</td>\n",
       "      <td>1.889</td>\n",
       "      <td>3.8</td>\n",
       "      <td>3.443</td>\n",
       "      <td>9</td>\n",
       "      <td>Moderate</td>\n",
       "    </tr>\n",
       "    <tr>\n",
       "      <th>3</th>\n",
       "      <td>18</td>\n",
       "      <td>5.295</td>\n",
       "      <td>4.703</td>\n",
       "      <td>1.8</td>\n",
       "      <td>4.295</td>\n",
       "      <td>3.703</td>\n",
       "      <td>10</td>\n",
       "      <td>Moderate</td>\n",
       "    </tr>\n",
       "    <tr>\n",
       "      <th>4</th>\n",
       "      <td>10</td>\n",
       "      <td>5.322</td>\n",
       "      <td>4.238</td>\n",
       "      <td>1.429</td>\n",
       "      <td>4.477</td>\n",
       "      <td>3.393</td>\n",
       "      <td>7</td>\n",
       "      <td>Moderate</td>\n",
       "    </tr>\n",
       "  </tbody>\n",
       "</table>\n",
       "</div>"
      ],
      "text/plain": [
       "  Energy_Unit Energy_density_Joule Volume_m3 Event_freq_unit_per_day  \\\n",
       "0          41                5.968     4.694                   3.727   \n",
       "1          14                5.841     4.622                   1.556   \n",
       "2          17                4.754     4.397                   1.889   \n",
       "3          18                5.295     4.703                     1.8   \n",
       "4          10                5.322     4.238                   1.429   \n",
       "\n",
       "  Energy_Joule_per_day Volume_m3_per_day Duration_days Intensity_Level  \n",
       "0                4.926             3.653            11         Intense  \n",
       "1                4.887             3.668             9        Moderate  \n",
       "2                  3.8             3.443             9        Moderate  \n",
       "3                4.295             3.703            10        Moderate  \n",
       "4                4.477             3.393             7        Moderate  "
      ]
     },
     "execution_count": 8,
     "metadata": {},
     "output_type": "execute_result"
    }
   ],
   "source": [
    "df.head()"
   ]
  },
  {
   "cell_type": "code",
   "execution_count": 9,
   "metadata": {},
   "outputs": [
    {
     "name": "stdout",
     "output_type": "stream",
     "text": [
      "<class 'pandas.core.frame.DataFrame'>\n",
      "RangeIndex: 91 entries, 0 to 90\n",
      "Data columns (total 8 columns):\n",
      " #   Column                   Non-Null Count  Dtype \n",
      "---  ------                   --------------  ----- \n",
      " 0   Energy_Unit              91 non-null     object\n",
      " 1   Energy_density_Joule     91 non-null     object\n",
      " 2   Volume_m3                91 non-null     object\n",
      " 3   Event_freq_unit_per_day  91 non-null     object\n",
      " 4   Energy_Joule_per_day     91 non-null     object\n",
      " 5   Volume_m3_per_day        91 non-null     object\n",
      " 6   Duration_days            91 non-null     object\n",
      " 7   Intensity_Level          91 non-null     object\n",
      "dtypes: object(8)\n",
      "memory usage: 5.8+ KB\n"
     ]
    }
   ],
   "source": [
    "df.info()"
   ]
  },
  {
   "cell_type": "code",
   "execution_count": 10,
   "metadata": {},
   "outputs": [],
   "source": [
    "# Convert all feature columns to numeric type safely\n",
    "df[\"Energy_Unit\"] = pd.to_numeric(df[\"Energy_Unit\"], errors='coerce')\n",
    "df[\"Energy_density_Joule\"] = pd.to_numeric(df[\"Energy_density_Joule\"], errors='coerce')\n",
    "df[\"Volume_m3\"] = pd.to_numeric(df[\"Volume_m3\"], errors='coerce')\n",
    "df[\"Event_freq_unit_per_day\"] = pd.to_numeric(df[\"Event_freq_unit_per_day\"], errors='coerce')\n",
    "df[\"Energy_Joule_per_day\"] = pd.to_numeric(df[\"Energy_Joule_per_day\"], errors='coerce')\n",
    "df[\"Volume_m3_per_day\"] = pd.to_numeric(df[\"Volume_m3_per_day\"], errors='coerce')\n",
    "df[\"Duration_days\"] = pd.to_numeric(df[\"Duration_days\"], errors='coerce')\n"
   ]
  },
  {
   "cell_type": "code",
   "execution_count": 11,
   "metadata": {},
   "outputs": [
    {
     "name": "stdout",
     "output_type": "stream",
     "text": [
      "<class 'pandas.core.frame.DataFrame'>\n",
      "RangeIndex: 91 entries, 0 to 90\n",
      "Data columns (total 8 columns):\n",
      " #   Column                   Non-Null Count  Dtype  \n",
      "---  ------                   --------------  -----  \n",
      " 0   Energy_Unit              91 non-null     int64  \n",
      " 1   Energy_density_Joule     91 non-null     float64\n",
      " 2   Volume_m3                91 non-null     float64\n",
      " 3   Event_freq_unit_per_day  91 non-null     float64\n",
      " 4   Energy_Joule_per_day     91 non-null     float64\n",
      " 5   Volume_m3_per_day        91 non-null     float64\n",
      " 6   Duration_days            91 non-null     int64  \n",
      " 7   Intensity_Level          91 non-null     object \n",
      "dtypes: float64(5), int64(2), object(1)\n",
      "memory usage: 5.8+ KB\n"
     ]
    }
   ],
   "source": [
    "df.info()"
   ]
  },
  {
   "cell_type": "code",
   "execution_count": 12,
   "metadata": {},
   "outputs": [
    {
     "data": {
      "text/plain": [
       "Energy_Unit                0\n",
       "Energy_density_Joule       0\n",
       "Volume_m3                  0\n",
       "Event_freq_unit_per_day    0\n",
       "Energy_Joule_per_day       0\n",
       "Volume_m3_per_day          0\n",
       "Duration_days              0\n",
       "Intensity_Level            0\n",
       "dtype: int64"
      ]
     },
     "execution_count": 12,
     "metadata": {},
     "output_type": "execute_result"
    }
   ],
   "source": [
    "df.isnull().sum()"
   ]
  },
  {
   "cell_type": "code",
   "execution_count": 13,
   "metadata": {},
   "outputs": [
    {
     "data": {
      "text/plain": [
       "array(['Intense', 'Moderate', 'Slight', 'None'], dtype=object)"
      ]
     },
     "execution_count": 13,
     "metadata": {},
     "output_type": "execute_result"
    }
   ],
   "source": [
    "df[\"Intensity_Level\"].unique()"
   ]
  },
  {
   "cell_type": "code",
   "execution_count": 14,
   "metadata": {},
   "outputs": [],
   "source": [
    "df[\"Intensity_Level\"] = df[\"Intensity_Level\"].replace({\"None\": \"Stable\"})"
   ]
  },
  {
   "cell_type": "code",
   "execution_count": 15,
   "metadata": {},
   "outputs": [],
   "source": [
    "from sklearn.preprocessing import LabelEncoder\n",
    "\n",
    "Intensity_level_mapping={\"Stable\":0,\"Slight\":1,\"Moderate\":2,\"Intense\":3}\n",
    "df[\"Intensity_Level_encoded\"]=df[\"Intensity_Level\"].map(Intensity_level_mapping)\n"
   ]
  },
  {
   "cell_type": "code",
   "execution_count": 16,
   "metadata": {},
   "outputs": [
    {
     "data": {
      "text/plain": [
       "array(['Intense', 'Moderate', 'Slight', 'Stable'], dtype=object)"
      ]
     },
     "execution_count": 16,
     "metadata": {},
     "output_type": "execute_result"
    }
   ],
   "source": [
    "df[\"Intensity_Level\"].unique()"
   ]
  },
  {
   "cell_type": "code",
   "execution_count": 17,
   "metadata": {},
   "outputs": [
    {
     "data": {
      "text/html": [
       "<div>\n",
       "<style scoped>\n",
       "    .dataframe tbody tr th:only-of-type {\n",
       "        vertical-align: middle;\n",
       "    }\n",
       "\n",
       "    .dataframe tbody tr th {\n",
       "        vertical-align: top;\n",
       "    }\n",
       "\n",
       "    .dataframe thead th {\n",
       "        text-align: right;\n",
       "    }\n",
       "</style>\n",
       "<table border=\"1\" class=\"dataframe\">\n",
       "  <thead>\n",
       "    <tr style=\"text-align: right;\">\n",
       "      <th></th>\n",
       "      <th>Energy_Unit</th>\n",
       "      <th>Energy_density_Joule</th>\n",
       "      <th>Volume_m3</th>\n",
       "      <th>Event_freq_unit_per_day</th>\n",
       "      <th>Energy_Joule_per_day</th>\n",
       "      <th>Volume_m3_per_day</th>\n",
       "      <th>Duration_days</th>\n",
       "      <th>Intensity_Level_encoded</th>\n",
       "    </tr>\n",
       "  </thead>\n",
       "  <tbody>\n",
       "    <tr>\n",
       "      <th>count</th>\n",
       "      <td>91.000000</td>\n",
       "      <td>91.000000</td>\n",
       "      <td>91.000000</td>\n",
       "      <td>91.000000</td>\n",
       "      <td>91.000000</td>\n",
       "      <td>91.000000</td>\n",
       "      <td>91.000000</td>\n",
       "      <td>91.000000</td>\n",
       "    </tr>\n",
       "    <tr>\n",
       "      <th>mean</th>\n",
       "      <td>12.340659</td>\n",
       "      <td>4.363945</td>\n",
       "      <td>4.132923</td>\n",
       "      <td>1.662473</td>\n",
       "      <td>3.539187</td>\n",
       "      <td>3.318835</td>\n",
       "      <td>7.769231</td>\n",
       "      <td>1.142857</td>\n",
       "    </tr>\n",
       "    <tr>\n",
       "      <th>std</th>\n",
       "      <td>13.133688</td>\n",
       "      <td>1.450148</td>\n",
       "      <td>0.659514</td>\n",
       "      <td>1.689152</td>\n",
       "      <td>1.338949</td>\n",
       "      <td>0.588594</td>\n",
       "      <td>4.422360</td>\n",
       "      <td>1.060099</td>\n",
       "    </tr>\n",
       "    <tr>\n",
       "      <th>min</th>\n",
       "      <td>1.000000</td>\n",
       "      <td>0.780000</td>\n",
       "      <td>2.511000</td>\n",
       "      <td>0.111000</td>\n",
       "      <td>0.178000</td>\n",
       "      <td>1.666000</td>\n",
       "      <td>1.000000</td>\n",
       "      <td>0.000000</td>\n",
       "    </tr>\n",
       "    <tr>\n",
       "      <th>25%</th>\n",
       "      <td>3.500000</td>\n",
       "      <td>3.781000</td>\n",
       "      <td>3.718000</td>\n",
       "      <td>0.725000</td>\n",
       "      <td>2.870500</td>\n",
       "      <td>2.956500</td>\n",
       "      <td>4.000000</td>\n",
       "      <td>0.000000</td>\n",
       "    </tr>\n",
       "    <tr>\n",
       "      <th>50%</th>\n",
       "      <td>8.000000</td>\n",
       "      <td>4.614000</td>\n",
       "      <td>4.238000</td>\n",
       "      <td>1.222000</td>\n",
       "      <td>3.739000</td>\n",
       "      <td>3.474000</td>\n",
       "      <td>7.000000</td>\n",
       "      <td>1.000000</td>\n",
       "    </tr>\n",
       "    <tr>\n",
       "      <th>75%</th>\n",
       "      <td>17.000000</td>\n",
       "      <td>5.311000</td>\n",
       "      <td>4.643500</td>\n",
       "      <td>2.000000</td>\n",
       "      <td>4.575000</td>\n",
       "      <td>3.724500</td>\n",
       "      <td>10.000000</td>\n",
       "      <td>2.000000</td>\n",
       "    </tr>\n",
       "    <tr>\n",
       "      <th>max</th>\n",
       "      <td>70.000000</td>\n",
       "      <td>7.094000</td>\n",
       "      <td>5.168000</td>\n",
       "      <td>12.250000</td>\n",
       "      <td>5.890000</td>\n",
       "      <td>4.393000</td>\n",
       "      <td>23.000000</td>\n",
       "      <td>3.000000</td>\n",
       "    </tr>\n",
       "  </tbody>\n",
       "</table>\n",
       "</div>"
      ],
      "text/plain": [
       "       Energy_Unit  Energy_density_Joule  Volume_m3  Event_freq_unit_per_day  \\\n",
       "count    91.000000             91.000000  91.000000                91.000000   \n",
       "mean     12.340659              4.363945   4.132923                 1.662473   \n",
       "std      13.133688              1.450148   0.659514                 1.689152   \n",
       "min       1.000000              0.780000   2.511000                 0.111000   \n",
       "25%       3.500000              3.781000   3.718000                 0.725000   \n",
       "50%       8.000000              4.614000   4.238000                 1.222000   \n",
       "75%      17.000000              5.311000   4.643500                 2.000000   \n",
       "max      70.000000              7.094000   5.168000                12.250000   \n",
       "\n",
       "       Energy_Joule_per_day  Volume_m3_per_day  Duration_days  \\\n",
       "count             91.000000          91.000000      91.000000   \n",
       "mean               3.539187           3.318835       7.769231   \n",
       "std                1.338949           0.588594       4.422360   \n",
       "min                0.178000           1.666000       1.000000   \n",
       "25%                2.870500           2.956500       4.000000   \n",
       "50%                3.739000           3.474000       7.000000   \n",
       "75%                4.575000           3.724500      10.000000   \n",
       "max                5.890000           4.393000      23.000000   \n",
       "\n",
       "       Intensity_Level_encoded  \n",
       "count                91.000000  \n",
       "mean                  1.142857  \n",
       "std                   1.060099  \n",
       "min                   0.000000  \n",
       "25%                   0.000000  \n",
       "50%                   1.000000  \n",
       "75%                   2.000000  \n",
       "max                   3.000000  "
      ]
     },
     "execution_count": 17,
     "metadata": {},
     "output_type": "execute_result"
    }
   ],
   "source": [
    "df.describe()"
   ]
  },
  {
   "cell_type": "markdown",
   "metadata": {},
   "source": [
    "# Feature Enginerring"
   ]
  },
  {
   "cell_type": "code",
   "execution_count": 18,
   "metadata": {},
   "outputs": [],
   "source": [
    "# Energy per Volume  (Formula: Energy_Unit / Volume_m3)\n",
    "df[\"Energy_per_Volume\"]=df[\"Energy_Unit\"]/df[\"Volume_m3\"]"
   ]
  },
  {
   "cell_type": "code",
   "execution_count": 19,
   "metadata": {},
   "outputs": [],
   "source": [
    "# Energy per Duration (Formula: Energy_Unit / Duration_days)\n",
    "df[\"Energy_per_Duration\"]=df[\"Energy_Unit\"]/df[\"Duration_days\"]"
   ]
  },
  {
   "cell_type": "code",
   "execution_count": 20,
   "metadata": {},
   "outputs": [],
   "source": [
    "# Volume Change Rate (Formula: Volume_m3_per_day / Duration_days)\n",
    "df[\"Volume_Change_Rate\"]=df[\"Volume_m3_per_day\"]/df[\"Duration_days\"]"
   ]
  },
  {
   "cell_type": "code",
   "execution_count": 21,
   "metadata": {},
   "outputs": [],
   "source": [
    "# # Saving the df \n",
    "# df.to_csv('Data/PreProcessed/Rockburst_in_tunnel.csv', index=False)"
   ]
  },
  {
   "cell_type": "code",
   "execution_count": 23,
   "metadata": {},
   "outputs": [
    {
     "data": {
      "text/html": [
       "<div>\n",
       "<style scoped>\n",
       "    .dataframe tbody tr th:only-of-type {\n",
       "        vertical-align: middle;\n",
       "    }\n",
       "\n",
       "    .dataframe tbody tr th {\n",
       "        vertical-align: top;\n",
       "    }\n",
       "\n",
       "    .dataframe thead th {\n",
       "        text-align: right;\n",
       "    }\n",
       "</style>\n",
       "<table border=\"1\" class=\"dataframe\">\n",
       "  <thead>\n",
       "    <tr style=\"text-align: right;\">\n",
       "      <th></th>\n",
       "      <th>Energy_Unit</th>\n",
       "      <th>Energy_density_Joule</th>\n",
       "      <th>Volume_m3</th>\n",
       "      <th>Event_freq_unit_per_day</th>\n",
       "      <th>Energy_Joule_per_day</th>\n",
       "      <th>Volume_m3_per_day</th>\n",
       "      <th>Duration_days</th>\n",
       "      <th>Intensity_Level</th>\n",
       "      <th>Intensity_Level_encoded</th>\n",
       "      <th>Energy_per_Volume</th>\n",
       "      <th>Energy_per_Duration</th>\n",
       "      <th>Volume_Change_Rate</th>\n",
       "    </tr>\n",
       "  </thead>\n",
       "  <tbody>\n",
       "    <tr>\n",
       "      <th>0</th>\n",
       "      <td>41</td>\n",
       "      <td>5.968</td>\n",
       "      <td>4.694</td>\n",
       "      <td>3.727</td>\n",
       "      <td>4.926</td>\n",
       "      <td>3.653</td>\n",
       "      <td>11</td>\n",
       "      <td>Intense</td>\n",
       "      <td>3</td>\n",
       "      <td>8.734555</td>\n",
       "      <td>3.727273</td>\n",
       "      <td>0.332091</td>\n",
       "    </tr>\n",
       "    <tr>\n",
       "      <th>1</th>\n",
       "      <td>14</td>\n",
       "      <td>5.841</td>\n",
       "      <td>4.622</td>\n",
       "      <td>1.556</td>\n",
       "      <td>4.887</td>\n",
       "      <td>3.668</td>\n",
       "      <td>9</td>\n",
       "      <td>Moderate</td>\n",
       "      <td>2</td>\n",
       "      <td>3.028992</td>\n",
       "      <td>1.555556</td>\n",
       "      <td>0.407556</td>\n",
       "    </tr>\n",
       "    <tr>\n",
       "      <th>2</th>\n",
       "      <td>17</td>\n",
       "      <td>4.754</td>\n",
       "      <td>4.397</td>\n",
       "      <td>1.889</td>\n",
       "      <td>3.800</td>\n",
       "      <td>3.443</td>\n",
       "      <td>9</td>\n",
       "      <td>Moderate</td>\n",
       "      <td>2</td>\n",
       "      <td>3.866272</td>\n",
       "      <td>1.888889</td>\n",
       "      <td>0.382556</td>\n",
       "    </tr>\n",
       "    <tr>\n",
       "      <th>3</th>\n",
       "      <td>18</td>\n",
       "      <td>5.295</td>\n",
       "      <td>4.703</td>\n",
       "      <td>1.800</td>\n",
       "      <td>4.295</td>\n",
       "      <td>3.703</td>\n",
       "      <td>10</td>\n",
       "      <td>Moderate</td>\n",
       "      <td>2</td>\n",
       "      <td>3.827344</td>\n",
       "      <td>1.800000</td>\n",
       "      <td>0.370300</td>\n",
       "    </tr>\n",
       "    <tr>\n",
       "      <th>4</th>\n",
       "      <td>10</td>\n",
       "      <td>5.322</td>\n",
       "      <td>4.238</td>\n",
       "      <td>1.429</td>\n",
       "      <td>4.477</td>\n",
       "      <td>3.393</td>\n",
       "      <td>7</td>\n",
       "      <td>Moderate</td>\n",
       "      <td>2</td>\n",
       "      <td>2.359604</td>\n",
       "      <td>1.428571</td>\n",
       "      <td>0.484714</td>\n",
       "    </tr>\n",
       "  </tbody>\n",
       "</table>\n",
       "</div>"
      ],
      "text/plain": [
       "   Energy_Unit  Energy_density_Joule  Volume_m3  Event_freq_unit_per_day  \\\n",
       "0           41                 5.968      4.694                    3.727   \n",
       "1           14                 5.841      4.622                    1.556   \n",
       "2           17                 4.754      4.397                    1.889   \n",
       "3           18                 5.295      4.703                    1.800   \n",
       "4           10                 5.322      4.238                    1.429   \n",
       "\n",
       "   Energy_Joule_per_day  Volume_m3_per_day  Duration_days Intensity_Level  \\\n",
       "0                 4.926              3.653             11         Intense   \n",
       "1                 4.887              3.668              9        Moderate   \n",
       "2                 3.800              3.443              9        Moderate   \n",
       "3                 4.295              3.703             10        Moderate   \n",
       "4                 4.477              3.393              7        Moderate   \n",
       "\n",
       "   Intensity_Level_encoded  Energy_per_Volume  Energy_per_Duration  \\\n",
       "0                        3           8.734555             3.727273   \n",
       "1                        2           3.028992             1.555556   \n",
       "2                        2           3.866272             1.888889   \n",
       "3                        2           3.827344             1.800000   \n",
       "4                        2           2.359604             1.428571   \n",
       "\n",
       "   Volume_Change_Rate  \n",
       "0            0.332091  \n",
       "1            0.407556  \n",
       "2            0.382556  \n",
       "3            0.370300  \n",
       "4            0.484714  "
      ]
     },
     "execution_count": 23,
     "metadata": {},
     "output_type": "execute_result"
    }
   ],
   "source": [
    "df.head()"
   ]
  },
  {
   "cell_type": "code",
   "execution_count": 22,
   "metadata": {},
   "outputs": [
    {
     "name": "stdout",
     "output_type": "stream",
     "text": [
      "\n",
      "Logistic Regression Performance:\n",
      "Accuracy: 0.631578947368421\n",
      "Classification Report:\n",
      "               precision    recall  f1-score   support\n",
      "\n",
      "           0       0.86      0.86      0.86         7\n",
      "           1       0.33      0.40      0.36         5\n",
      "           2       0.60      0.60      0.60         5\n",
      "           3       1.00      0.50      0.67         2\n",
      "\n",
      "    accuracy                           0.63        19\n",
      "   macro avg       0.70      0.59      0.62        19\n",
      "weighted avg       0.67      0.63      0.64        19\n",
      "\n"
     ]
    },
    {
     "data": {
      "image/png": "[encoded data removed]",
      "text/plain": [
       "<Figure size 500x400 with 2 Axes>"
      ]
     },
     "metadata": {},
     "output_type": "display_data"
    },
    {
     "name": "stdout",
     "output_type": "stream",
     "text": [
      "\n",
      "Random Forest Performance:\n",
      "Accuracy: 0.47368421052631576\n",
      "Classification Report:\n",
      "               precision    recall  f1-score   support\n",
      "\n",
      "           0       0.56      0.71      0.62         7\n",
      "           1       0.25      0.20      0.22         5\n",
      "           2       0.40      0.40      0.40         5\n",
      "           3       1.00      0.50      0.67         2\n",
      "\n",
      "    accuracy                           0.47        19\n",
      "   macro avg       0.55      0.45      0.48        19\n",
      "weighted avg       0.48      0.47      0.46        19\n",
      "\n"
     ]
    },
    {
     "data": {
      "image/png": "[encoded data removed]",
      "text/plain": [
       "<Figure size 500x400 with 2 Axes>"
      ]
     },
     "metadata": {},
     "output_type": "display_data"
    },
    {
     "name": "stdout",
     "output_type": "stream",
     "text": [
      "\n",
      "SVM Performance:\n",
      "Accuracy: 0.6842105263157895\n",
      "Classification Report:\n",
      "               precision    recall  f1-score   support\n",
      "\n",
      "           0       0.64      1.00      0.78         7\n",
      "           1       1.00      0.20      0.33         5\n",
      "           2       0.67      0.80      0.73         5\n",
      "           3       1.00      0.50      0.67         2\n",
      "\n",
      "    accuracy                           0.68        19\n",
      "   macro avg       0.83      0.62      0.63        19\n",
      "weighted avg       0.78      0.68      0.64        19\n",
      "\n"
     ]
    },
    {
     "data": {
      "image/png": "[encoded data removed]",
      "text/plain": [
       "<Figure size 500x400 with 2 Axes>"
      ]
     },
     "metadata": {},
     "output_type": "display_data"
    },
    {
     "name": "stdout",
     "output_type": "stream",
     "text": [
      "\n",
      "XGBoost Performance:\n",
      "Accuracy: 0.5263157894736842\n",
      "Classification Report:\n",
      "               precision    recall  f1-score   support\n",
      "\n",
      "           0       0.50      0.71      0.59         7\n",
      "           1       0.50      0.20      0.29         5\n",
      "           2       0.50      0.60      0.55         5\n",
      "           3       1.00      0.50      0.67         2\n",
      "\n",
      "    accuracy                           0.53        19\n",
      "   macro avg       0.62      0.50      0.52        19\n",
      "weighted avg       0.55      0.53      0.51        19\n",
      "\n"
     ]
    },
    {
     "data": {
      "image/png": "[encoded data removed]",
      "text/plain": [
       "<Figure size 500x400 with 2 Axes>"
      ]
     },
     "metadata": {},
     "output_type": "display_data"
    },
    {
     "name": "stderr",
     "output_type": "stream",
     "text": [
      "C:\\Users\\Administrator\\AppData\\Local\\Temp\\ipykernel_7816\\992323025.py:63: FutureWarning: \n",
      "\n",
      "Passing `palette` without assigning `hue` is deprecated and will be removed in v0.14.0. Assign the `x` variable to `hue` and set `legend=False` for the same effect.\n",
      "\n",
      "  sns.barplot(x=list(results.keys()), y=list(results.values()), palette='viridis')\n"
     ]
    },
    {
     "data": {
      "image/png": "[encoded data removed]",
      "text/plain": [
       "<Figure size 800x500 with 1 Axes>"
      ]
     },
     "metadata": {},
     "output_type": "display_data"
    }
   ],
   "source": [
    "import pandas as pd\n",
    "import numpy as np\n",
    "from sklearn.model_selection import train_test_split\n",
    "from sklearn.metrics import accuracy_score, classification_report, confusion_matrix\n",
    "from sklearn.linear_model import LogisticRegression\n",
    "from sklearn.ensemble import RandomForestClassifier\n",
    "from sklearn.svm import SVC\n",
    "from xgboost import XGBClassifier\n",
    "import seaborn as sns\n",
    "import matplotlib.pyplot as plt\n",
    "\n",
    "# ---------------------\n",
    "# 1. Features & Target\n",
    "# ---------------------\n",
    "X = df.drop(columns=['Intensity_Level_encoded', 'Intensity_Level'])\n",
    "y = df['Intensity_Level_encoded']\n",
    "\n",
    "# Split\n",
    "X_train, X_test, y_train, y_test = train_test_split(\n",
    "    X, y, test_size=0.2, random_state=42, stratify=y\n",
    ")\n",
    "\n",
    "# ---------------------\n",
    "# 2. Models\n",
    "# ---------------------\n",
    "models = {\n",
    "    \"Logistic Regression\": LogisticRegression(max_iter=1000),\n",
    "    \"Random Forest\": RandomForestClassifier(n_estimators=200, random_state=42),\n",
    "    \"SVM\": SVC(kernel='rbf', probability=True, random_state=42),\n",
    "    \"XGBoost\": XGBClassifier(eval_metric='mlogloss', random_state=42)\n",
    "}\n",
    "\n",
    "results = {}\n",
    "\n",
    "# ---------------------\n",
    "# 3. Training & Evaluation\n",
    "# ---------------------\n",
    "for name, model in models.items():\n",
    "    model.fit(X_train, y_train)\n",
    "    preds = model.predict(X_test)\n",
    "    acc = accuracy_score(y_test, preds)\n",
    "    results[name] = acc\n",
    "\n",
    "    print(f\"\\n{name} Performance:\")\n",
    "    print(\"Accuracy:\", acc)\n",
    "    print(\"Classification Report:\\n\", classification_report(y_test, preds))\n",
    "\n",
    "    # Confusion Matrix\n",
    "    cm = confusion_matrix(y_test, preds)\n",
    "    plt.figure(figsize=(5,4))\n",
    "    sns.heatmap(cm, annot=True, fmt='d', cmap='Blues',\n",
    "                xticklabels=np.unique(y),\n",
    "                yticklabels=np.unique(y))\n",
    "    plt.title(f\"{name} - Confusion Matrix\")\n",
    "    plt.xlabel(\"Predicted\")\n",
    "    plt.ylabel(\"Actual\")\n",
    "    plt.show()\n",
    "\n",
    "# ---------------------\n",
    "# 4. Compare Model Accuracy\n",
    "# ---------------------\n",
    "plt.figure(figsize=(8,5))\n",
    "sns.barplot(x=list(results.keys()), y=list(results.values()), palette='viridis')\n",
    "plt.ylabel(\"Accuracy\")\n",
    "plt.title(\"Model Accuracy Comparison\")\n",
    "plt.ylim(0, 1)\n",
    "plt.show()\n"
   ]
  },
  {
   "cell_type": "code",
   "execution_count": null,
   "metadata": {},
   "outputs": [],
   "source": []
  }
 ],
 "metadata": {
  "kernelspec": {
   "display_name": "Python 3",
   "language": "python",
   "name": "python3"
  },
  "language_info": {
   "codemirror_mode": {
    "name": "ipython",
    "version": 3
   },
   "file_extension": ".py",
   "mimetype": "text/x-python",
   "name": "python",
   "nbconvert_exporter": "python",
   "pygments_lexer": "ipython3",
   "version": "3.13.3"
  }
 },
 "nbformat": 4,
 "nbformat_minor": 2
}
